{
 "cells": [
  {
   "cell_type": "markdown",
   "id": "39fa8c0d-da61-4704-9bba-c438347abf95",
   "metadata": {},
   "source": [
    "# Visualize Roman L1 ramp files with Rampviz\n",
    "\n",
    "\n",
    "To install jdaviz from source with the optional Roman dependencies:\n",
    "```bash\n",
    "pip install .[roman]\n",
    "```\n",
    "\n",
    "\n",
    "First, let's download a ramp file:"
   ]
  },
  {
   "cell_type": "code",
   "execution_count": null,
   "id": "b69aafe8-264b-4b11-a908-4603ad86ba7b",
   "metadata": {},
   "outputs": [],
   "source": [
    "import os\n",
    "from urllib.request import urlretrieve\n",
    "\n",
    "from jdaviz import Rampviz\n",
    "\n",
    "force_download = False\n",
    "\n",
    "url_L1 = \"https://stsci.box.com/shared/static/80vahj27t3y02itfohc22p999snkcocw.asdf\"\n",
    "local_path = \"L1.asdf\"\n",
    "\n",
    "if not os.path.exists(local_path) or force_download:\n",
    "    urlretrieve(url_L1, local_path)"
   ]
  },
  {
   "cell_type": "markdown",
   "id": "64fb7c99-084b-40af-8180-5af16a04069e",
   "metadata": {},
   "source": [
    "Let's load the file into the helper:"
   ]
  },
  {
   "cell_type": "code",
   "execution_count": null,
   "id": "2b15f559-a7ad-4279-b777-4eff0b465b56",
   "metadata": {},
   "outputs": [],
   "source": [
    "rampviz = Rampviz()\n",
    "rampviz.load_data(local_path, data_label='Roman L1')\n",
    "rampviz.show(height=1000)"
   ]
  },
  {
   "cell_type": "markdown",
   "id": "7d73fbd0-8f08-4665-b2f5-858da26f51af",
   "metadata": {},
   "source": [
    "We can add a spatial subset on a star to extract a ramp profile from within the subset:"
   ]
  },
  {
   "cell_type": "code",
   "execution_count": null,
   "id": "e26c0804-3b78-4b2b-8c9d-a9fc5c1c91ea",
   "metadata": {},
   "outputs": [],
   "source": [
    "from regions import CirclePixelRegion, PixCoord\n",
    "\n",
    "region = CirclePixelRegion(center=PixCoord(1797, 2051), radius=5)\n",
    "rampviz.load_regions(region)"
   ]
  },
  {
   "cell_type": "code",
   "execution_count": null,
   "id": "5407496a-96ac-4202-a2c0-345bb5649263",
   "metadata": {},
   "outputs": [],
   "source": [
    "ramp_extract = rampviz.plugins['Ramp Extraction']\n",
    "\n",
    "# # If you re-run this cell, you may need to re-enable previews:\n",
    "# ramp_extract._obj.previews_temp_disabled = False\n",
    "\n",
    "ramp_extract.keep_active = True\n",
    "ramp_extract.function = 'Mean'\n",
    "ramp_extract.aperture = 'Subset 1'"
   ]
  },
  {
   "cell_type": "code",
   "execution_count": null,
   "id": "5f7d28cb-2647-4d37-84da-b15390e26d19",
   "metadata": {},
   "outputs": [],
   "source": []
  }
 ],
 "metadata": {
  "kernelspec": {
   "display_name": "Python 3 (ipykernel)",
   "language": "python",
   "name": "python3"
  },
  "language_info": {
   "codemirror_mode": {
    "name": "ipython",
    "version": 3
   },
   "file_extension": ".py",
   "mimetype": "text/x-python",
   "name": "python",
   "nbconvert_exporter": "python",
   "pygments_lexer": "ipython3",
   "version": "3.11.5"
  }
 },
 "nbformat": 4,
 "nbformat_minor": 5
}
